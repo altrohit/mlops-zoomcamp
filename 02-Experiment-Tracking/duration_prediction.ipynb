{
 "cells": [
  {
   "cell_type": "code",
   "execution_count": 44,
   "metadata": {},
   "outputs": [],
   "source": [
    "import pandas as pd"
   ]
  },
  {
   "cell_type": "code",
   "execution_count": 45,
   "metadata": {},
   "outputs": [],
   "source": [
    "import seaborn as sns\n",
    "import matplotlib.pyplot as plt\n",
    "\n",
    "from sklearn.feature_extraction import DictVectorizer\n",
    "from sklearn.linear_model import LinearRegression\n",
    "from sklearn.metrics import root_mean_squared_error\n",
    "\n",
    "import pickle"
   ]
  },
  {
   "cell_type": "code",
   "execution_count": 46,
   "metadata": {},
   "outputs": [],
   "source": [
    "import mlflow"
   ]
  },
  {
   "cell_type": "code",
   "execution_count": 47,
   "metadata": {},
   "outputs": [
    {
     "data": {
      "text/plain": [
       "<Experiment: artifact_location='/home/rohit/mlops-zoomcamp/02-Experiment-Tracking/mlruns/1', creation_time=1726390207628, experiment_id='1', last_update_time=1726390207628, lifecycle_stage='active', name='nyc-experiment-tracker', tags={}>"
      ]
     },
     "execution_count": 47,
     "metadata": {},
     "output_type": "execute_result"
    }
   ],
   "source": [
    "mlflow.set_tracking_uri(\"sqlite:///mlruns.db\")\n",
    "mlflow.set_experiment('nyc-experiment-tracker')"
   ]
  },
  {
   "cell_type": "code",
   "execution_count": 48,
   "metadata": {},
   "outputs": [],
   "source": [
    "def read_data(filename):\n",
    "    df = pd.read_parquet(filename)\n",
    "    df['duration'] = df.lpep_dropoff_datetime - df.lpep_pickup_datetime\n",
    "    df.duration = df.duration.apply(lambda td:td.total_seconds()/60)\n",
    "    df = df[((df.duration > 1) & (df.duration <= 60))]\n",
    "    categorical = ['PULocationID', 'DOLocationID']\n",
    "    df[categorical] = df[categorical].astype(str)\n",
    "\n",
    "    return df"
   ]
  },
  {
   "cell_type": "code",
   "execution_count": 49,
   "metadata": {},
   "outputs": [],
   "source": [
    "train_df = read_data('../data/green_tripdata_2021-01.parquet')\n",
    "val_df = read_data('../data/green_tripdata_2021-02.parquet')\n",
    "\n",
    "train_df['PU_DO'] = train_df['PULocationID'] + '_' + train_df['DOLocationID']\n",
    "val_df['PU_DO'] = val_df['PULocationID'] + '_' + val_df['DOLocationID']\n",
    "\n",
    "categorical = ['PU_DO'] #['PULocationID', 'DOLocationID']\n",
    "numerical = ['trip_distance']\n",
    "\n",
    "dv = DictVectorizer()\n",
    "\n",
    "train_dicts = train_df[categorical+numerical].to_dict(orient='records')\n",
    "train_x = dv.fit_transform(train_dicts)\n",
    "\n",
    "val_dicts = val_df[categorical+numerical].to_dict(orient='records')\n",
    "val_x = dv.transform(val_dicts)\n",
    "\n",
    "target = 'duration'\n",
    "train_y = train_df[target].values\n",
    "val_y = val_df[target].values"
   ]
  },
  {
   "cell_type": "code",
   "execution_count": 50,
   "metadata": {},
   "outputs": [],
   "source": [
    "with mlflow.start_run():\n",
    "    mlflow.set_tag('developer', 'rohit')\n",
    "\n",
    "    mlflow.log_param('train-data-path', '../data/green_tripdata_2021-01.parquet')\n",
    "    mlflow.log_param('val-data-path', '../data/green_tripdata_2021-02.parquet')\n",
    "\n",
    "    lr = LinearRegression()\n",
    "    lr.fit(train_x, train_y)\n",
    "\n",
    "    pred_y = lr.predict(val_x)\n",
    "    rmse = root_mean_squared_error(val_y, pred_y)\n",
    "    mlflow.log_metric('rmse', rmse)\n"
   ]
  }
 ],
 "metadata": {
  "kernelspec": {
   "display_name": "base",
   "language": "python",
   "name": "python3"
  },
  "language_info": {
   "codemirror_mode": {
    "name": "ipython",
    "version": 3
   },
   "file_extension": ".py",
   "mimetype": "text/x-python",
   "name": "python",
   "nbconvert_exporter": "python",
   "pygments_lexer": "ipython3",
   "version": "3.12.4"
  }
 },
 "nbformat": 4,
 "nbformat_minor": 2
}
